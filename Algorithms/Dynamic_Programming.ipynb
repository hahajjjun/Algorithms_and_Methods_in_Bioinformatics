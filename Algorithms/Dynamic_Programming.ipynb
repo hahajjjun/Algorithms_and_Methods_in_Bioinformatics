{
  "nbformat": 4,
  "nbformat_minor": 0,
  "metadata": {
    "colab": {
      "name": "Dynamic Programming.ipynb",
      "provenance": [],
      "authorship_tag": "ABX9TyNR+HHHbfq/SCnqhBU1Obre",
      "include_colab_link": true
    },
    "kernelspec": {
      "name": "python3",
      "display_name": "Python 3"
    },
    "language_info": {
      "name": "python"
    }
  },
  "cells": [
    {
      "cell_type": "markdown",
      "metadata": {
        "id": "view-in-github",
        "colab_type": "text"
      },
      "source": [
        "<a href=\"https://colab.research.google.com/github/hahajjjun/Bioinformatics_Algorithm/blob/master/Dynamic_Programming.ipynb\" target=\"_parent\"><img src=\"https://colab.research.google.com/assets/colab-badge.svg\" alt=\"Open In Colab\"/></a>"
      ]
    },
    {
      "cell_type": "markdown",
      "source": [
        "# 1. Prerequisites : Recursive Calls & Memoization"
      ],
      "metadata": {
        "id": "GlhvPQTURBNl"
      }
    },
    {
      "cell_type": "code",
      "source": [
        "import time"
      ],
      "metadata": {
        "id": "TB8DsMGgaI_O"
      },
      "execution_count": null,
      "outputs": []
    },
    {
      "cell_type": "markdown",
      "source": [
        "최적의 하위 구조? <br/>\n",
        "- 어떤 문제의 풀이를, 더 작은 문제로 정의하는 게 최적의 풀이법인 경우 : 최적의 하위 구조\n",
        "- 최적의 하위 구조 문제는 Dynamic Programming을 적용하기 좋음, 재귀 방법으로도 풀 수는 있다."
      ],
      "metadata": {
        "id": "s9p5vvY1RwXW"
      }
    },
    {
      "cell_type": "markdown",
      "source": [
        "## 1.1 Fibonacci Example"
      ],
      "metadata": {
        "id": "4ezE1jIlSKsm"
      }
    },
    {
      "cell_type": "markdown",
      "source": [
        "Time Complexity of Recursive Call. <br/>\n",
        "*T(n) = T(n-1) + T(n-2) + O(1)* , *Exponential Time Complexity*"
      ],
      "metadata": {
        "id": "bZJcyZkPUP9V"
      }
    },
    {
      "cell_type": "code",
      "source": [
        "start = time.time()\n",
        "\n",
        "def fibo(n):\n",
        "  if n==1 or n==2:\n",
        "    return 1\n",
        "  else:\n",
        "    return fibo(n-1)+fibo(n-2)\n",
        "print(fibo(5))\n",
        "\n",
        "print(\"time :\", time.time() - start)"
      ],
      "metadata": {
        "colab": {
          "base_uri": "https://localhost:8080/"
        },
        "id": "rHuzYXf2SMqn",
        "outputId": "3ff54a8f-0d0f-4478-c61d-9368c08e049d"
      },
      "execution_count": null,
      "outputs": [
        {
          "output_type": "stream",
          "name": "stdout",
          "text": [
            "5\n",
            "time : 0.0011861324310302734\n"
          ]
        }
      ]
    },
    {
      "cell_type": "markdown",
      "source": [
        "Repeating Simple Calculations"
      ],
      "metadata": {
        "id": "0laV6YgQU59r"
      }
    },
    {
      "cell_type": "code",
      "execution_count": null,
      "metadata": {
        "colab": {
          "base_uri": "https://localhost:8080/"
        },
        "id": "CFa9oUILQ_5b",
        "outputId": "2840db8d-60f1-40eb-8fff-ec94164c91e4"
      },
      "outputs": [
        {
          "output_type": "stream",
          "name": "stdout",
          "text": [
            "5\n",
            "time : 0.0004830360412597656\n"
          ]
        }
      ],
      "source": [
        "start = time.time()\n",
        "\n",
        "def fibo2(n):\n",
        "  a = 1\n",
        "  b = 1\n",
        "  c = 0\n",
        "  if n==1 or n==2:\n",
        "    return 1\n",
        "  for cnt in range(3,n+1):\n",
        "    c = a + b\n",
        "    a = b\n",
        "    b = c\n",
        "  return c\n",
        "print(fibo2(5))\n",
        "\n",
        "print(\"time :\", time.time() - start)"
      ]
    },
    {
      "cell_type": "markdown",
      "source": [
        "## 1.2 MinCost Problem : ChuChuTrain"
      ],
      "metadata": {
        "id": "X2Ccbr85XLp_"
      }
    },
    {
      "cell_type": "markdown",
      "source": [
        "한 기차 노선 위에 0부터 N-1까지 N개의 역이 있다. <br/> 기차는 첫 번째 역에서 마지막 역까지 한 방향으로만 이동한다. <br/> 두 역사이의 기차 요금은 2D list에 저장된다. <br/>\n",
        "cost[i][j]는, i 역에서 j 역으로 가는 데 드는 요금을 의미한다. <br/>"
      ],
      "metadata": {
        "id": "lmqsONc_Y-zV"
      }
    },
    {
      "cell_type": "code",
      "source": [
        "start = time.time()  # 시작 시간 저장\n",
        " \n",
        "# This data can be stored in sparse matrix\n",
        "cost = [[0,10,75,94],[-1,0,35,50],[-1,-1,0,80],[-1,-1,-1,0]]\n",
        "\n",
        "def minCost(s,d):\n",
        "  # s : starting, d : destination\n",
        "  if d==s+1:\n",
        "    return cost[s][d]\n",
        "  costs = []\n",
        "  costs.append(cost[s][d])\n",
        "  for i in range(1,d-s):\n",
        "    costs.append(minCost(s,s+i)+minCost(s+i,d))\n",
        "  return min(costs)\n",
        "\n",
        "print(minCost(1,3))\n",
        "\n",
        "print(\"time :\", time.time() - start)"
      ],
      "metadata": {
        "colab": {
          "base_uri": "https://localhost:8080/"
        },
        "id": "JQ_kv5w5XR_U",
        "outputId": "06ae4e8b-67ac-4255-a134-a779d4386f4d"
      },
      "execution_count": null,
      "outputs": [
        {
          "output_type": "stream",
          "name": "stdout",
          "text": [
            "50\n",
            "time : 0.0009806156158447266\n"
          ]
        }
      ]
    },
    {
      "cell_type": "markdown",
      "source": [
        "Memoization Strategy\n",
        "\n",
        "실해 시간을 아래에서 비교해 볼 수 있다."
      ],
      "metadata": {
        "id": "88frlOF4ZnYD"
      }
    },
    {
      "cell_type": "code",
      "source": [
        "start = time.time()\n",
        "\n",
        "# This data can be stored in sparse matrix\n",
        "cost = [[0,10,75,94],[-1,0,35,50],[-1,-1,0,80],[-1,-1,-1,0]]\n",
        "\n",
        "# Cache used in memo\n",
        "memo = [[0,0,0,0], [0,0,0,0], [0,0,0,0], [0,0,0,0]]\n",
        "\n",
        "def minCost(s,d):\n",
        "  if s==d or s==d-1:\n",
        "    return cost[s][d]\n",
        "  \n",
        "  if memo[s][d]==0:\n",
        "    minValue = cost[s][d]\n",
        "    for i in range(s+1, d):\n",
        "      temp = minCost(s,i)+minCost(i,d)\n",
        "      if temp < minValue:\n",
        "        minValue = temp\n",
        "    \n",
        "    memo[s][d] = minValue\n",
        "  \n",
        "  return memo[s][d]\n",
        "\n",
        "print(\"time :\", time.time() - start)"
      ],
      "metadata": {
        "colab": {
          "base_uri": "https://localhost:8080/"
        },
        "id": "Ctwikk5oZpac",
        "outputId": "f27693b9-d7c3-418e-bd85-d1e9a0222015"
      },
      "execution_count": null,
      "outputs": [
        {
          "output_type": "stream",
          "name": "stdout",
          "text": [
            "time : 0.00021791458129882812\n"
          ]
        }
      ]
    },
    {
      "cell_type": "markdown",
      "source": [
        "# 2. Dynamic Programming Intro"
      ],
      "metadata": {
        "id": "y_AtI8OJdFM9"
      }
    },
    {
      "cell_type": "markdown",
      "source": [
        "## 2.1 Fibonacci Example"
      ],
      "metadata": {
        "id": "aHdXTwPwiLSx"
      }
    },
    {
      "cell_type": "code",
      "source": [
        "start = time.time() \n",
        "\n",
        "def fibo3(n):\n",
        "  fibolist = [0 for i in range(n)]\n",
        "  fibolist[0] = 1\n",
        "  fibolist[1] = 1\n",
        "  for i in range(2,n):\n",
        "    fibolist[i] = fibolist[i-1] + fibolist[i-2]\n",
        "  return fibolist[n-1]\n",
        "print(fibo3(5))\n",
        "\n",
        "print(\"time :\", time.time() - start)"
      ],
      "metadata": {
        "colab": {
          "base_uri": "https://localhost:8080/"
        },
        "id": "gS6VvgpBdC-M",
        "outputId": "a205e888-71b5-442c-e65d-26715037edbc"
      },
      "execution_count": null,
      "outputs": [
        {
          "output_type": "stream",
          "name": "stdout",
          "text": [
            "5\n",
            "time : 0.00030732154846191406\n"
          ]
        }
      ]
    },
    {
      "cell_type": "markdown",
      "source": [
        "## 2.2 minCost : ChuChuTrain Example"
      ],
      "metadata": {
        "id": "Qe0lI0ApkZ64"
      }
    },
    {
      "cell_type": "code",
      "source": [
        "start = time.time()\n",
        "\n",
        "# This data can be stored in sparse matrix\n",
        "cost = [[0,10,75,94],[-1,0,35,50],[-1,-1,0,80],[-1,-1,-1,0]]\n",
        "\n",
        "def minCost(N):\n",
        "  minValue = [0 for i in range(0,N+1)]\n",
        "  minValue[0] = 0\n",
        "  minValue[1] = cost[0][1]\n",
        "  for i in range(2,N+1):\n",
        "    minValue[i] = cost[0][i]\n",
        "    for j in range(1,i):\n",
        "      if minValue[i] > minValue[j]+cost[j][i]:\n",
        "        minValue[i] = minValue[j]+cost[j][i]\n",
        "  return minValue[N]\n",
        "\n",
        "print(minCost(3))\n",
        "\n",
        "print(\"time :\", time.time() - start)"
      ],
      "metadata": {
        "colab": {
          "base_uri": "https://localhost:8080/"
        },
        "id": "K8sP8ov3bRmE",
        "outputId": "96930fb7-50e8-485b-d05c-7057275a169f"
      },
      "execution_count": null,
      "outputs": [
        {
          "output_type": "stream",
          "name": "stdout",
          "text": [
            "60\n",
            "time : 0.0010869503021240234\n"
          ]
        }
      ]
    },
    {
      "cell_type": "markdown",
      "source": [
        "## 2.3 Dealing with substring"
      ],
      "metadata": {
        "id": "JCphyvu8o9VF"
      }
    },
    {
      "cell_type": "markdown",
      "source": [
        "- Input : 숫자로 구성된 문자열\n",
        "- Output : 주어진 조건을 만족하는 문자열의 최대 길이\n",
        "- Condition : 해당 문자열의 앞 절반과 뒤 절반의 합이 동일해야 한다."
      ],
      "metadata": {
        "id": "rRUvi2eMpEP_"
      }
    },
    {
      "cell_type": "markdown",
      "source": [
        "### Brute Force Approach"
      ],
      "metadata": {
        "id": "Df7NohLmpS7d"
      }
    },
    {
      "cell_type": "code",
      "source": [
        "start = time.time()\n",
        "\n",
        "input = \"142124\"\n",
        "def maxSubStringLength(s):\n",
        "  n = len(s)\n",
        "  maxlen = 0\n",
        "  \n",
        "  for i in range(n):\n",
        "    for j in range(i+1,n,2): #우리가 찾는 것은 짝수 길이의 substring이므로\n",
        "      l = j-i+1\n",
        "      if maxlen >= l: # maxlen보다 짧은 길이는 조사할 필요도 없음\n",
        "        continue\n",
        "      lSum = 0\n",
        "      rSum = 0\n",
        "      for k in range(0,l//2):\n",
        "        lSum += int(s[i+k])\n",
        "        rSum += int(s[i+k+l//2])\n",
        "      if lSum == rSum:\n",
        "        maxlen = l\n",
        "  return maxlen\n",
        "\n",
        "maxSubStringLength(input)\n",
        "\n",
        "print(\"time :\", time.time() - start)"
      ],
      "metadata": {
        "colab": {
          "base_uri": "https://localhost:8080/"
        },
        "id": "i8jUFicC9KOF",
        "outputId": "51738e84-aeae-4a96-9fa4-59f95f210c20"
      },
      "execution_count": null,
      "outputs": [
        {
          "output_type": "stream",
          "name": "stdout",
          "text": [
            "time : 0.00020551681518554688\n"
          ]
        }
      ]
    },
    {
      "cell_type": "markdown",
      "source": [
        "### Dynamic Programming Approach"
      ],
      "metadata": {
        "id": "iZoVp0qXmKRK"
      }
    },
    {
      "cell_type": "markdown",
      "source": [
        "![image.png](data:image/png;base64,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)"
      ],
      "metadata": {
        "id": "mhKB_cxEsWdg"
      }
    },
    {
      "cell_type": "code",
      "source": [
        "start = time.time()\n",
        "\n",
        "input = \"142124\"\n",
        "def DP_maxSubStringLength(s):\n",
        "  n = len(s)\n",
        "  maxlen = 0\n",
        "  sum = [[0]*n for i in range(n)]\n",
        "  # sum[i][j] indicates sum of numbers from ith position to jth position\n",
        "  for i in range(n):\n",
        "    sum[i][i] = int(s[i])\n",
        "  \n",
        "  for length in range(2,n+1):\n",
        "    for i in range(n-length+1):\n",
        "      j = i+length-1\n",
        "      k = length//2\n",
        "      sum[i][j] = sum[i][j-k] + sum[j-k+1][j]\n",
        "\n",
        "      if length%2==0 and sum[i][j-k]==sum[j-k+1][j] and length > maxlen:\n",
        "        maxlen = length\n",
        "    \n",
        "  return maxlen\n",
        "DP_maxSubStringLength(input)\n",
        "\n",
        "print(\"time :\", time.time() - start)"
      ],
      "metadata": {
        "colab": {
          "base_uri": "https://localhost:8080/"
        },
        "id": "LIFLUnk3mRRx",
        "outputId": "1212273a-8a08-4140-9ced-a46e2636ce44"
      },
      "execution_count": null,
      "outputs": [
        {
          "output_type": "stream",
          "name": "stdout",
          "text": [
            "time : 0.0002827644348144531\n"
          ]
        }
      ]
    },
    {
      "cell_type": "markdown",
      "source": [
        "# 3. Dynamic Programming Examples"
      ],
      "metadata": {
        "id": "56jCc8kHvy7a"
      }
    },
    {
      "cell_type": "markdown",
      "source": [
        "![Picture1.png](data:image/png;base64,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)"
      ],
      "metadata": {
        "id": "b-S0R1bCwJqz"
      }
    },
    {
      "cell_type": "markdown",
      "source": [
        "## 3.1 Minimum Cost Movement in 2D Matrix"
      ],
      "metadata": {
        "id": "4ni3ig58wRAW"
      }
    },
    {
      "cell_type": "markdown",
      "source": [
        "2차원 비용 행렬이 주어져 있을 때, 시작점 [0][0] 에서 [i][j]까지 도달하기 위한 최소 비용을 구하기 <br/>\n",
        "- Recursive Call\n",
        "- Memoization\n",
        "- Dynamic Programming"
      ],
      "metadata": {
        "id": "i56KPBNPwzWG"
      }
    },
    {
      "cell_type": "markdown",
      "source": [
        "### Recursive Call"
      ],
      "metadata": {
        "id": "MBmijcJ-xSIi"
      }
    },
    {
      "cell_type": "code",
      "source": [
        "def getMin(x,y):\n",
        "  if x<y:\n",
        "    return x\n",
        "  return y\n",
        "def minPathCost(cost, m, n):\n",
        "  if m==0 and n==0:\n",
        "    return cost[0][0]\n",
        "  if m==0:\n",
        "    return minPathCost(cost, 0, n-1)+cost[0][n]\n",
        "  if n==0:\n",
        "    return minPathCost(cost, m-1, 0)+cost[m][0]\n",
        "  x = minPathCost(cost, m-1,n)\n",
        "  y = minPathCost(cost, m, n-1)\n",
        "  return getMin(x,y) + cost[m][n]\n",
        "\n",
        "cost = [[1,3,5,8],[4,2,1,7],[4,3,2,3]]\n",
        "\n",
        "minPathCost(cost,2,3)"
      ],
      "metadata": {
        "colab": {
          "base_uri": "https://localhost:8080/"
        },
        "id": "-Ucgq_dLvyVG",
        "outputId": "193d9e97-3e5b-4b36-ad44-745bf4bad8b8"
      },
      "execution_count": null,
      "outputs": [
        {
          "output_type": "execute_result",
          "data": {
            "text/plain": [
              "12"
            ]
          },
          "metadata": {},
          "execution_count": 17
        }
      ]
    },
    {
      "cell_type": "markdown",
      "source": [
        "### Memoization"
      ],
      "metadata": {
        "id": "dGLrN4qK0x5j"
      }
    },
    {
      "cell_type": "code",
      "source": [
        "MEM = [[0]*4 for i in range(3)]\n",
        "MEM"
      ],
      "metadata": {
        "colab": {
          "base_uri": "https://localhost:8080/"
        },
        "id": "Asf3cT8h0xeq",
        "outputId": "9e8b4800-c70c-4beb-8d7e-a5d19c4edb33"
      },
      "execution_count": null,
      "outputs": [
        {
          "output_type": "execute_result",
          "data": {
            "text/plain": [
              "[[0, 0, 0, 0], [0, 0, 0, 0], [0, 0, 0, 0]]"
            ]
          },
          "metadata": {},
          "execution_count": 22
        }
      ]
    },
    {
      "cell_type": "code",
      "source": [
        "def getMin(x,y):\n",
        "  if x<y:\n",
        "    return x\n",
        "  return y\n",
        "def minPathCost2(cost, m, n):\n",
        "  if MEM[m][n]!=0:\n",
        "    return MEM[m][n]\n",
        "\n",
        "  if m==0 and n==0:\n",
        "    MEM[m][n] = cost[0][0]\n",
        "  elif m==0:\n",
        "    MEM[m][n] =  minPathCost2(cost, 0, n-1)+cost[0][n]\n",
        "  elif n==0:\n",
        "   MEM[m][n] = minPathCost2(cost, m-1, 0)+cost[m][0]\n",
        "  else:\n",
        "    x = minPathCost2(cost, m-1,n)\n",
        "    y = minPathCost2(cost, m, n-1)\n",
        "    MEM[m][n] = getMin(x,y) + cost[m][n]\n",
        "  \n",
        "  return MEM[m][n]\n",
        "\n",
        "cost = [[1,3,5,8],[4,2,1,7],[4,3,2,3]]\n",
        "minPathCost2(cost,2,3)"
      ],
      "metadata": {
        "colab": {
          "base_uri": "https://localhost:8080/"
        },
        "id": "mjmU--6b1DcK",
        "outputId": "61405f06-452b-4ce7-9d09-7d2766a069ca"
      },
      "execution_count": null,
      "outputs": [
        {
          "output_type": "execute_result",
          "data": {
            "text/plain": [
              "12"
            ]
          },
          "metadata": {},
          "execution_count": 23
        }
      ]
    },
    {
      "cell_type": "code",
      "source": [
        "for row in MEM:\n",
        "  for entry in row:\n",
        "    print(entry, end=\"  \")\n",
        "  print(\"\\n--------\")"
      ],
      "metadata": {
        "colab": {
          "base_uri": "https://localhost:8080/"
        },
        "id": "xeKNQjQt1yt7",
        "outputId": "b6dfb152-f3dd-403b-bf07-7ba4c8e66cf4"
      },
      "execution_count": null,
      "outputs": [
        {
          "output_type": "stream",
          "name": "stdout",
          "text": [
            "1  4  9  17  \n",
            "--------\n",
            "5  6  7  14  \n",
            "--------\n",
            "9  9  9  12  \n",
            "--------\n"
          ]
        }
      ]
    },
    {
      "cell_type": "markdown",
      "source": [
        "### Bottom-Up Dynamic programming"
      ],
      "metadata": {
        "id": "bTL49gFi2One"
      }
    },
    {
      "cell_type": "code",
      "source": [
        "MEM = [[0]*4 for i in range(3)]\n",
        "MEM"
      ],
      "metadata": {
        "colab": {
          "base_uri": "https://localhost:8080/"
        },
        "id": "6Yx0jWxe2U1b",
        "outputId": "0273b6ba-12ad-4536-fa11-0a54b3a828da"
      },
      "execution_count": null,
      "outputs": [
        {
          "output_type": "execute_result",
          "data": {
            "text/plain": [
              "[[0, 0, 0, 0], [0, 0, 0, 0], [0, 0, 0, 0]]"
            ]
          },
          "metadata": {},
          "execution_count": 31
        }
      ]
    },
    {
      "cell_type": "code",
      "source": [
        "def getMin(x,y):\n",
        "  if x<y:\n",
        "    return x\n",
        "  return y\n",
        "def minPathCost3(cost, m, n):\n",
        "  MEM[0][0] = cost[0][0]\n",
        "  \n",
        "  for i in range(1,m+1):\n",
        "    MEM[i][0] = MEM[i-1][0] + cost[i][0]\n",
        "  \n",
        "  for j in range(1,n+1):\n",
        "    MEM[0][j] = MEM[0][j-1] + cost[0][j]\n",
        "  \n",
        "  for i in range(1,m+1):\n",
        "    for j in range(1,n+1):\n",
        "      MEM[i][j] = getMin(MEM[i-1][j], MEM[i][j-1]) + cost[i][j]\n",
        "\n",
        "  return MEM[i][j]\n",
        "\n",
        "cost = [[1,3,5,8],[4,2,1,7],[4,3,2,3]]\n",
        "minPathCost3(cost,2,3)"
      ],
      "metadata": {
        "colab": {
          "base_uri": "https://localhost:8080/"
        },
        "id": "_AOQApbA3llh",
        "outputId": "16ca4048-f7c4-40d9-8453-d98d302773a4"
      },
      "execution_count": null,
      "outputs": [
        {
          "output_type": "execute_result",
          "data": {
            "text/plain": [
              "12"
            ]
          },
          "metadata": {},
          "execution_count": 33
        }
      ]
    },
    {
      "cell_type": "code",
      "source": [
        "for row in MEM:\n",
        "  for entry in row:\n",
        "    print(entry, end=\"  \")\n",
        "  print(\"\\n--------\")"
      ],
      "metadata": {
        "colab": {
          "base_uri": "https://localhost:8080/"
        },
        "id": "ry-TQayI4oco",
        "outputId": "6ad3fc3e-9f84-4510-c58a-67167e0edfab"
      },
      "execution_count": null,
      "outputs": [
        {
          "output_type": "stream",
          "name": "stdout",
          "text": [
            "1  4  9  17  \n",
            "--------\n",
            "5  6  7  14  \n",
            "--------\n",
            "9  9  9  12  \n",
            "--------\n"
          ]
        }
      ]
    },
    {
      "cell_type": "markdown",
      "source": [
        "## 3.2 Maximum Sum of Consequent Sub-sequence"
      ],
      "metadata": {
        "id": "2nKvTJpI6d1o"
      }
    },
    {
      "cell_type": "markdown",
      "source": [
        "### Brute-Force Approach"
      ],
      "metadata": {
        "id": "jSxb-ngo61u3"
      }
    },
    {
      "cell_type": "code",
      "source": [
        "seq = [-2,-3,4,-1,-2,1,5,-3]\n",
        "\n",
        "def maxSubArraySum(seq):\n",
        "  n = len(seq)\n",
        "  maxSum = min(seq)\n",
        "  curSum = 0\n",
        "\n",
        "  for i in range(n):\n",
        "    curSum = 0\n",
        "    for j in range(i,n):\n",
        "      curSum += seq[j]\n",
        "      if curSum > maxSum:\n",
        "        maxSum = curSum\n",
        "  \n",
        "  return maxSum\n",
        "\n",
        "print(maxSubArraySum(seq))"
      ],
      "metadata": {
        "colab": {
          "base_uri": "https://localhost:8080/"
        },
        "id": "LXnEzX1T6k86",
        "outputId": "70f79493-fa81-4bd6-9916-3974d0a91e03"
      },
      "execution_count": null,
      "outputs": [
        {
          "output_type": "stream",
          "name": "stdout",
          "text": [
            "7\n"
          ]
        }
      ]
    },
    {
      "cell_type": "markdown",
      "source": [
        "### Kadane's Algorithm"
      ],
      "metadata": {
        "id": "oUAffGZh9Ti2"
      }
    },
    {
      "cell_type": "markdown",
      "source": [
        "Kadane's Algorithm은 두 변수를 갱신하면서 배열의 원소를 정확히 한 번만 참조하는 알고리즘이다. <br/>\n",
        "*Idea : 만약 배열의 i번째 숫자부터 j번째 숫자까지의 합이 음수라면, 배열의 i번재 숫자부터 j+1번째 숫자까지의 합이 배열의 j+1번째 값보다 작으므로, 이전까지의 합을 무시할 수 있다.*"
      ],
      "metadata": {
        "id": "gd8hWXdqInHV"
      }
    },
    {
      "cell_type": "markdown",
      "source": [
        "*Can we call it dynamic programming? <br/>*\n",
        "- 카데인 알고리즘은 큰 문제를 작은 문제로 쪼갠다는 관점에서, 하위 구조 특성을 가진다(점화식을 보면).\n",
        "  - 이 관점에서는 DP가 아니라, 재귀 문제라고 주장할 수 있다.\n",
        "- 하지만,  재귀 호출 과정에서 DP를 사용하므로 하위 문제의 실제적인 반복 게산은 일어나지 않는다.\n",
        "  - 이 관점에서는 DP라고 주장할 수 있다.\n"
      ],
      "metadata": {
        "id": "Pe2pywtrMe2F"
      }
    },
    {
      "cell_type": "code",
      "source": [
        "seq = [-2,-3,4,-1,-2,1,5,-3]\n",
        "\n",
        "def maxSubArraySum2(seq):\n",
        "  n = len(seq)\n",
        "  maxSumSoFar = 0 #지금까지 부분합의 최댓값\n",
        "  maxSumEndingHere = 0 #현재가 끝나는 지점이 되는 부분합의 최댓값\n",
        "  for i in range(n):\n",
        "    maxSumEndingHere += seq[i]\n",
        "    \n",
        "    if maxSumEndingHere < 0:\n",
        "      maxSumEndingHere = 0\n",
        "    \n",
        "    if maxSumSoFar < maxSumEndingHere:\n",
        "      maxSumSoFar = maxSumEndingHere\n",
        "    \n",
        "  return maxSumSoFar\n",
        "\n",
        "print(maxSubArraySum2(seq))"
      ],
      "metadata": {
        "id": "gKvWipkX9XdT",
        "colab": {
          "base_uri": "https://localhost:8080/"
        },
        "outputId": "5e4746a4-3e99-4a3e-e36a-6920b8bda431"
      },
      "execution_count": null,
      "outputs": [
        {
          "output_type": "stream",
          "name": "stdout",
          "text": [
            "7\n"
          ]
        }
      ]
    },
    {
      "cell_type": "markdown",
      "source": [
        "# 4. Dynamic Programming Challenges"
      ],
      "metadata": {
        "id": "_Zev-wRVOBHX"
      }
    },
    {
      "cell_type": "markdown",
      "source": [
        "## 4.1 최소 교정 비용 문제\n",
        "Input : str1, str2 <br/>\n",
        "Output : find the series of operations that makes least cost"
      ],
      "metadata": {
        "id": "PKu1oqaSPJ3K"
      }
    },
    {
      "cell_type": "markdown",
      "source": [
        "### Recursive Call Approach"
      ],
      "metadata": {
        "id": "y4bbWK5pPbjw"
      }
    },
    {
      "cell_type": "code",
      "source": [
        "# 글자에서 사용 가능한 세 연산 : Insertion, Deletion, Substitution\n"
      ],
      "metadata": {
        "id": "j8O3HPU8OFj7"
      },
      "execution_count": null,
      "outputs": []
    }
  ]
}